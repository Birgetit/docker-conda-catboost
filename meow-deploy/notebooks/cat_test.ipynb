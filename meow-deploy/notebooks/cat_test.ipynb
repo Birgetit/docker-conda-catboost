{
 "cells": [
  {
   "cell_type": "code",
   "execution_count": 2,
   "metadata": {
    "collapsed": false
   },
   "outputs": [
    {
     "name": "stdout",
     "output_type": "stream",
     "text": [
      "{'has_time': False, 'l2_leaf_reg': 3, 'rsm': 1, 'loss_function': 'RMSE', 'learning_rate': 1, 'use_best_model': False, 'store_all_simple_ctr': False, 'thread_count': 8, 'random_seed': 19547136293220, 'feature_border_type': 'MinEntropy', 'iterations': 500, 'depth': 16, 'eval_metric': 'RMSE', 'leaf_estimation_method': 'Gradient', 'name': 'experiment', 'verbose': False, 'random_strength': 1, 'od_pval': 0, 'gradient_iterations': 1}\n"
     ]
    }
   ],
   "source": [
    "import numpy\n",
    "from catboost import CatBoostRegressor\n",
    "\n",
    "dataset = numpy.array([[1,4,5,6],[4,5,6,7],[30,40,50,60],[20,15,85,60]])\n",
    "train_labels = [1.2,3.4,9.5,24.5]\n",
    "model = CatBoostRegressor(learning_rate=1, depth=16, loss_function='RMSE')\n",
    "fit_model = model.fit(dataset, train_labels)\n",
    "print (fit_model.get_params())\n",
    "\n"
   ]
  },
  {
   "cell_type": "code",
   "execution_count": null,
   "metadata": {
    "collapsed": true
   },
   "outputs": [],
   "source": []
  }
 ],
 "metadata": {
  "anaconda-cloud": {},
  "kernelspec": {
   "display_name": "Python [conda root]",
   "language": "python",
   "name": "conda-root-py"
  },
  "language_info": {
   "codemirror_mode": {
    "name": "ipython",
    "version": 3
   },
   "file_extension": ".py",
   "mimetype": "text/x-python",
   "name": "python",
   "nbconvert_exporter": "python",
   "pygments_lexer": "ipython3",
   "version": "3.5.2"
  }
 },
 "nbformat": 4,
 "nbformat_minor": 1
}
